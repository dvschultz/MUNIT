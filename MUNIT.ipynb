{
  "nbformat": 4,
  "nbformat_minor": 0,
  "metadata": {
    "colab": {
      "name": "MUNIT.ipynb",
      "provenance": [],
      "toc_visible": true,
      "include_colab_link": true
    },
    "kernelspec": {
      "name": "python3",
      "display_name": "Python 3"
    },
    "accelerator": "GPU"
  },
  "cells": [
    {
      "cell_type": "markdown",
      "metadata": {
        "id": "view-in-github",
        "colab_type": "text"
      },
      "source": [
        "<a href=\"https://colab.research.google.com/github/dvschultz/MUNIT/blob/master/MUNIT.ipynb\" target=\"_parent\"><img src=\"https://colab.research.google.com/assets/colab-badge.svg\" alt=\"Open In Colab\"/></a>"
      ]
    },
    {
      "cell_type": "markdown",
      "metadata": {
        "id": "IdC23munnMbJ"
      },
      "source": [
        "#MUNIT\n",
        "MUNIT stands for Multimodal UNsupervised Image-to-image Translation. That’s a lot of words to say it can convert images of cats to images of dogs, or images of horses to images of zebras. Basically, it learns to convert one set of images (a “domain”) to another set.\n",
        "\n",
        "[Original repo](https://github.com/NVlabs/MUNIT) | [Forked repo](https://github.com/dvschultz/MUNIT)\n",
        "\n",
        "There is also a new version of MUNIT in the Imaginaire library. I personally didn’t like it as much but YMMV.\n",
        "\n",
        "---\n",
        "\n",
        "\n",
        "\n",
        "If you find this notebook useful, consider signing up for my [Patreon](https://www.patreon.com/bustbright) or [YouTube channel](https://www.youtube.com/channel/UCaZuPdmZ380SFUMKHVsv_AA/join). You can also send me a one-time payment on [Venmo](https://venmo.com/Derrick-Schultz)."
      ]
    },
    {
      "cell_type": "markdown",
      "metadata": {
        "id": "Szmde0mW5eLt"
      },
      "source": [
        "## Setup"
      ]
    },
    {
      "cell_type": "markdown",
      "metadata": {
        "id": "w1FfZ_T85y_H"
      },
      "source": [
        "First let’s check to see what GPU we’ve been assigned."
      ]
    },
    {
      "cell_type": "code",
      "metadata": {
        "id": "CUS9o_ko5c_3"
      },
      "source": [
        "!nvidia-smi -L"
      ],
      "execution_count": null,
      "outputs": []
    },
    {
      "cell_type": "markdown",
      "metadata": {
        "id": "E_IQc0FQ525y"
      },
      "source": [
        "Next let’s connect our Google Drive account to Colab. This is optional but highly recommended."
      ]
    },
    {
      "cell_type": "code",
      "metadata": {
        "id": "hr-hnVHv5gO4"
      },
      "source": [
        "from google.colab import drive\n",
        "drive.mount('/content/drive')"
      ],
      "execution_count": null,
      "outputs": []
    },
    {
      "cell_type": "markdown",
      "metadata": {
        "id": "Q7kIYZQc5apQ"
      },
      "source": [
        "## Install repo"
      ]
    },
    {
      "cell_type": "markdown",
      "metadata": {
        "id": "GI6Erd5s7YO0"
      },
      "source": [
        "The nnext cell will install the MUNIT repository in Google Drive. If you have already installed it it will just move into that folder. If you don’t have Google Drive connected it will just install the necessary code in Colab."
      ]
    },
    {
      "cell_type": "code",
      "metadata": {
        "id": "epYHn8rR42aR"
      },
      "source": [
        "import os\n",
        "\n",
        "if os.path.isdir(\"/content/drive/MyDrive/colab-munit/MUNIT/\"):\n",
        "    %cd /content/drive/MyDrive/colab-munit/MUNIT/\n",
        "elif os.path.isdir(\"/content/drive/\"):\n",
        "    !mkdir /content/drive/MyDrive/colab-munit\n",
        "    %cd /content/drive/MyDrive/colab-munit\n",
        "    !git clone https://github.com/dvschultz/MUNIT\n",
        "    %cd MUNIT\n",
        "else:\n",
        "    print('Drive not mounted, installing in /content/')  \n",
        "    !git clone https://github.com/dvschultz/MUNIT\n",
        "    %cd MUNIT\n",
        "\n",
        "#install dependencies\n",
        "!pip install tensorboardX torchfile"
      ],
      "execution_count": null,
      "outputs": []
    },
    {
      "cell_type": "markdown",
      "metadata": {
        "id": "My_COMHzkoYm"
      },
      "source": [
        "##Dataset Preparation\n",
        "\n",
        "MUNIT requires two different sets of images. Unlike Pix2Pix or similar models, these two sets of images do not need to be tightly coupled (for example: a color image and its grayscale equivalent). The images also do not need to be the same size.\n",
        "\n",
        "I recommend a minimum of ~250 images per folder. This will allow for the model to generalize fairly well (the more images, the better). \n",
        "\n",
        "Once you have created the images you will need to upload them to your server. The folder structure should look like this:\n",
        "* Top level folder name (I usually use X2Y, where X is the first dataset and Y is the second.)\n",
        "* ├ trainA (training set from X)\n",
        "* ├ trainB (training set from Y)\n",
        "* ├ testA (testing set from X)\n",
        "* ├ testB (testing set from Y)\n",
        "\n",
        "For our purposes `trainA`/`testA` and `trainB`/`testB` can be the same, but in a \"scientific\" setting you would want these folder to contain different images.\n",
        "\n",
        "There are two ways to upload the images.\n",
        "1. Zip up the folder and upload it to Colab in the `MUNIT/datasets` folder. This is probably slow and depending how large your dataset is can use up a lot of the Disk space in Colab.\n",
        "2. You can connect your Google Drive to Colab and host your files in Google Drive (This does not require you zipping up your folder, but does require a Google Drive account). This option needs a little setting up, but it saves you disk space and time once it’s set up.\n"
      ]
    },
    {
      "cell_type": "markdown",
      "metadata": {
        "id": "7AsDwtVNkl39"
      },
      "source": [
        "#Training\n",
        "Once you have your dataset prepped and uploaded, the last thing to do is create a YAML config file. Let’s first duplicate one of the example files. In the code below I recommend renaming the file to match the top level folder name you used when uploading the dataset. This helps keep track of file naming and will remind you what settings you used should you need to retrain the model ever again."
      ]
    },
    {
      "cell_type": "code",
      "metadata": {
        "id": "HqW0o3p37uZz"
      },
      "source": [
        "!cp ./configs/edges2shoes_folder.yaml ./configs/myprojectname_folder.yaml"
      ],
      "execution_count": null,
      "outputs": []
    },
    {
      "cell_type": "markdown",
      "metadata": {
        "id": "lzFp9wkt74b8"
      },
      "source": [
        "Next, double-click on the .yaml file in the File viewer to your left and edit the last few lines of the file. \n",
        "\n",
        "* `data_root`: should point to the path of your dataset\n",
        "* `new_size`, `crop_image_height`, `crop_image_width` (optional): I recommend setting this to a larger size, I find it leads to better training (I usually use `1024`, `512`, and `512` respectively)."
      ]
    },
    {
      "cell_type": "markdown",
      "metadata": {
        "id": "k30-Rcuj9BQo"
      },
      "source": [
        "Ok, now it’s time to train. We can see all of the options for training by running the next cell."
      ]
    },
    {
      "cell_type": "code",
      "metadata": {
        "id": "Vw06b6id9G7J"
      },
      "source": [
        "!python train.py --help"
      ],
      "execution_count": null,
      "outputs": []
    },
    {
      "cell_type": "markdown",
      "metadata": {
        "id": "OVd31o4t9fU4"
      },
      "source": [
        "In my experience all we really need to worry about it the `--config` argument."
      ]
    },
    {
      "cell_type": "code",
      "metadata": {
        "id": "2Anm_z5Djolg",
        "colab": {
          "base_uri": "https://localhost:8080/",
          "height": 34
        },
        "outputId": "7e35e5ce-7062-4e9b-e349-69e556cf88ec"
      },
      "source": [
        "!python train.py --config ./configs/myprojectname_folder.yaml"
      ],
      "execution_count": null,
      "outputs": [
        {
          "output_type": "stream",
          "text": [
            "/content/MUNIT\n"
          ],
          "name": "stdout"
        }
      ]
    },
    {
      "cell_type": "markdown",
      "metadata": {
        "id": "lF34U7ly8nqS"
      },
      "source": [
        "### Resume Training\n",
        "\n",
        "If Colab shuts off before you complete training, you can resume training with this command:"
      ]
    },
    {
      "cell_type": "code",
      "metadata": {
        "id": "ywU6kk9p89bc"
      },
      "source": [
        "!python train.py --config ./configs/myprojectname_folder.yaml --resume"
      ],
      "execution_count": null,
      "outputs": []
    },
    {
      "cell_type": "markdown",
      "metadata": {
        "id": "ZuIynNtN7wMO"
      },
      "source": [
        "#Testing\n",
        "If you’re only using Colab for testing, you’ll need to do the following:\n",
        "1. Move your config .yaml from training into the `configs` folder.\n",
        "2. Create a `models` folder and put the generator .pt file in there (the generator file begins with `gen_`)\n",
        "3. Create an `inputs` folder and a `styles` folder. You’ll put images you want to translate in the `inputs` folder and images you want to guide style in the `styles` folder (See the Guided Translation)."
      ]
    },
    {
      "cell_type": "code",
      "metadata": {
        "id": "Hqj4Ge1NKkJ7"
      },
      "source": [
        "#make some folders (only run once)\n",
        "%mkdir models\n",
        "%mkdir styles"
      ],
      "execution_count": null,
      "outputs": []
    },
    {
      "cell_type": "code",
      "metadata": {
        "id": "TDLNbUxV7xkV"
      },
      "source": [
        "#testing with a single image\n",
        "#this generates 10 random images from the model\n",
        "!python test.py --config /content/MUNIT/configs/512-sm_birds2floralmag_folder.yaml --input /content/MUNIT/inputs/birdsAustraliav5Goul_0208.png --output_folder outputs --checkpoint /content/MUNIT/models/gen_00240000.pt --a2b 1"
      ],
      "execution_count": null,
      "outputs": []
    },
    {
      "cell_type": "code",
      "metadata": {
        "id": "h4rRLZ39V9Tz",
        "colab": {
          "base_uri": "https://localhost:8080/",
          "height": 1000
        },
        "outputId": "bdc9f039-573a-4d74-cee4-5dfc6719a003"
      },
      "source": [
        "!zip -r outputs.zip ./outputs"
      ],
      "execution_count": null,
      "outputs": [
        {
          "output_type": "stream",
          "text": [
            "updating: outputs/ (stored 0%)\n",
            "updating: outputs/output004.jpg (deflated 1%)\n",
            "updating: outputs/output006.jpg (deflated 3%)\n",
            "updating: outputs/output002.jpg (deflated 1%)\n",
            "updating: outputs/output009.jpg (deflated 1%)\n",
            "updating: outputs/output007.jpg (deflated 1%)\n",
            "updating: outputs/output005.jpg (deflated 2%)\n",
            "updating: outputs/output000.jpg (deflated 3%)\n",
            "updating: outputs/output001.jpg (deflated 1%)\n",
            "updating: outputs/output003.jpg (deflated 1%)\n",
            "updating: outputs/output008.jpg (deflated 0%)\n",
            "updating: outputs/input.jpg (deflated 1%)\n",
            "updating: outputs/output069.jpg (deflated 2%)\n",
            "updating: outputs/output077.jpg (deflated 2%)\n",
            "updating: outputs/output091.jpg (deflated 1%)\n",
            "updating: outputs/output037.jpg (deflated 1%)\n",
            "updating: outputs/output032.jpg (deflated 2%)\n",
            "updating: outputs/output065.jpg (deflated 3%)\n",
            "updating: outputs/output087.jpg (deflated 1%)\n",
            "updating: outputs/output013.jpg (deflated 1%)\n",
            "updating: outputs/output088.jpg (deflated 1%)\n",
            "updating: outputs/output040.jpg (deflated 1%)\n",
            "updating: outputs/output094.jpg (deflated 0%)\n",
            "updating: outputs/output018.jpg (deflated 0%)\n",
            "updating: outputs/output075.jpg (deflated 1%)\n",
            "updating: outputs/output039.jpg (deflated 1%)\n",
            "updating: outputs/output026.jpg (deflated 1%)\n",
            "updating: outputs/output083.jpg (deflated 2%)\n",
            "updating: outputs/output061.jpg (deflated 2%)\n",
            "updating: outputs/output064.jpg (deflated 1%)\n",
            "updating: outputs/output027.jpg (deflated 2%)\n",
            "updating: outputs/output085.jpg (deflated 2%)\n",
            "updating: outputs/output038.jpg (deflated 2%)\n",
            "updating: outputs/output016.jpg (deflated 1%)\n",
            "updating: outputs/output053.jpg (deflated 1%)\n",
            "updating: outputs/output098.jpg (deflated 2%)\n",
            "updating: outputs/output050.jpg (deflated 1%)\n",
            "updating: outputs/output079.jpg (deflated 1%)\n",
            "updating: outputs/output097.jpg (deflated 1%)\n",
            "updating: outputs/output048.jpg (deflated 3%)\n",
            "updating: outputs/output036.jpg (deflated 2%)\n",
            "updating: outputs/output017.jpg (deflated 1%)\n",
            "updating: outputs/output025.jpg (deflated 2%)\n",
            "updating: outputs/output014.jpg (deflated 2%)\n",
            "updating: outputs/output086.jpg (deflated 3%)\n",
            "updating: outputs/output058.jpg (deflated 1%)\n",
            "updating: outputs/output066.jpg (deflated 3%)\n",
            "updating: outputs/output080.jpg (deflated 1%)\n",
            "updating: outputs/output011.jpg (deflated 3%)\n",
            "updating: outputs/output054.jpg (deflated 1%)\n",
            "updating: outputs/output046.jpg (deflated 2%)\n",
            "updating: outputs/output060.jpg (deflated 2%)\n",
            "updating: outputs/output070.jpg (deflated 1%)\n",
            "updating: outputs/output022.jpg (deflated 2%)\n",
            "updating: outputs/output023.jpg (deflated 1%)\n",
            "updating: outputs/output081.jpg (deflated 1%)\n",
            "updating: outputs/output095.jpg (deflated 1%)\n",
            "updating: outputs/output068.jpg (deflated 2%)\n",
            "updating: outputs/output015.jpg (deflated 0%)\n",
            "updating: outputs/output010.jpg (deflated 2%)\n",
            "updating: outputs/output031.jpg (deflated 1%)\n",
            "updating: outputs/output029.jpg (deflated 2%)\n",
            "updating: outputs/output099.jpg (deflated 0%)\n",
            "updating: outputs/output056.jpg (deflated 3%)\n",
            "updating: outputs/output051.jpg (deflated 2%)\n",
            "updating: outputs/output012.jpg (deflated 1%)\n",
            "updating: outputs/output028.jpg (deflated 1%)\n",
            "updating: outputs/output034.jpg (deflated 0%)\n",
            "updating: outputs/output074.jpg (deflated 2%)\n",
            "updating: outputs/output045.jpg (deflated 1%)\n",
            "updating: outputs/output020.jpg (deflated 3%)\n",
            "updating: outputs/output089.jpg (deflated 1%)\n",
            "updating: outputs/output071.jpg (deflated 2%)\n",
            "updating: outputs/output059.jpg (deflated 2%)\n",
            "updating: outputs/output021.jpg (deflated 0%)\n",
            "updating: outputs/output049.jpg (deflated 1%)\n",
            "updating: outputs/output052.jpg (deflated 1%)\n",
            "updating: outputs/output042.jpg (deflated 0%)\n",
            "updating: outputs/output047.jpg (deflated 2%)\n",
            "updating: outputs/output019.jpg (deflated 3%)\n",
            "updating: outputs/output055.jpg (deflated 2%)\n",
            "updating: outputs/output093.jpg (deflated 1%)\n",
            "updating: outputs/output067.jpg (deflated 1%)\n",
            "updating: outputs/output090.jpg (deflated 1%)\n",
            "updating: outputs/output044.jpg (deflated 1%)\n",
            "updating: outputs/output030.jpg (deflated 2%)\n",
            "updating: outputs/output082.jpg (deflated 2%)\n",
            "updating: outputs/output057.jpg (deflated 2%)\n",
            "updating: outputs/output096.jpg (deflated 1%)\n",
            "updating: outputs/output035.jpg (deflated 1%)\n",
            "updating: outputs/output033.jpg (deflated 2%)\n",
            "updating: outputs/output041.jpg (deflated 2%)\n",
            "updating: outputs/output072.jpg (deflated 1%)\n",
            "updating: outputs/output063.jpg (deflated 2%)\n",
            "updating: outputs/output062.jpg (deflated 1%)\n",
            "updating: outputs/output073.jpg (deflated 2%)\n",
            "updating: outputs/output043.jpg (deflated 2%)\n",
            "updating: outputs/output076.jpg (deflated 1%)\n",
            "updating: outputs/output092.jpg (deflated 1%)\n",
            "updating: outputs/output078.jpg (deflated 1%)\n",
            "updating: outputs/output084.jpg (deflated 1%)\n",
            "updating: outputs/output024.jpg (deflated 3%)\n"
          ],
          "name": "stdout"
        }
      ]
    },
    {
      "cell_type": "markdown",
      "metadata": {
        "id": "nGaL9GJpRbWb"
      },
      "source": [
        "##Testing Options\n",
        "\n",
        "`--num_style`\n",
        "How many \"styles\" you want to output\n",
        "\n",
        "`--num_style_start` What index to start with. If you combine this with `--num_style 1` you can generate only the style you want once determined (for example, run 500 samples, pick your favorite, then only ever test with that one.)"
      ]
    },
    {
      "cell_type": "code",
      "metadata": {
        "id": "43-pBsOtaKEs",
        "colab": {
          "base_uri": "https://localhost:8080/",
          "height": 34
        },
        "outputId": "93a43544-126e-483d-ef66-7a621e550ec4"
      },
      "source": [
        "#testing with a single image, use --num_styles to set the number of styles\n",
        "!rm outputs/*.*\n",
        "!python test.py --config /content/MUNIT/configs/512-sm_birds2floralmag_folder.yaml --input /content/MUNIT/inputs/birdsAustraliav5Goul_0208.png --output_folder outputs --checkpoint /content/MUNIT/models/gen_00240000.pt --a2b 1 --num_style 1 --num_style_start 65"
      ],
      "execution_count": null,
      "outputs": [
        {
          "output_type": "stream",
          "text": [
            "rm: cannot remove 'outputs/*.*': No such file or directory\n"
          ],
          "name": "stdout"
        }
      ]
    },
    {
      "cell_type": "markdown",
      "metadata": {
        "id": "AbQcv9R9941U"
      },
      "source": [
        "##Guided Translation\n",
        "MUNIT also allows you to do what they call \"guided translation.\" This allows you to pass it an image and use that image as the \"style\" (for lack of a better term) for the output image."
      ]
    },
    {
      "cell_type": "code",
      "metadata": {
        "id": "ZMC-YqZy98-M"
      },
      "source": [
        "#guided translation\n",
        "python test.py --config configs/edges2shoes_folder.yaml --input inputs/edges2shoes_edge.jpg --output_folder results --checkpoint models/edges2shoes.pt --a2b 1 --style inputs/edges2shoes_shoe.jpg"
      ],
      "execution_count": null,
      "outputs": []
    },
    {
      "cell_type": "markdown",
      "metadata": {
        "id": "V44wD5Gq-0Sc"
      },
      "source": [
        "##Batch Testing\n",
        "Both of the above examples only generate samples from one image. If you want to test it on a whole folder of images you use the `test_batch.py` script.\n",
        "\n",
        "Note: you can’t currently batch test with a guided translation image. (I’m working on it.)"
      ]
    },
    {
      "cell_type": "code",
      "metadata": {
        "id": "Btb7kiV9_0SC"
      },
      "source": [
        "python test_batch.py --config configs/edges2shoes_folder.yaml --input_folder inputs --output_folder outputs --checkpoint models/edges2shoes.pt --a2b 1"
      ],
      "execution_count": null,
      "outputs": []
    },
    {
      "cell_type": "code",
      "metadata": {
        "id": "gm8iy0PJsFNx",
        "colab": {
          "base_uri": "https://localhost:8080/",
          "height": 204
        },
        "outputId": "8af393fa-eef9-471f-c0f3-f9fe46540be9"
      },
      "source": [
        "!git pull"
      ],
      "execution_count": null,
      "outputs": [
        {
          "output_type": "stream",
          "text": [
            "remote: Enumerating objects: 5, done.\u001b[K\n",
            "remote: Counting objects:  20% (1/5)\u001b[K\rremote: Counting objects:  40% (2/5)\u001b[K\rremote: Counting objects:  60% (3/5)\u001b[K\rremote: Counting objects:  80% (4/5)\u001b[K\rremote: Counting objects: 100% (5/5)\u001b[K\rremote: Counting objects: 100% (5/5), done.\u001b[K\n",
            "remote: Compressing objects:  33% (1/3)\u001b[K\rremote: Compressing objects:  66% (2/3)\u001b[K\rremote: Compressing objects: 100% (3/3)\u001b[K\rremote: Compressing objects: 100% (3/3), done.\u001b[K\n",
            "remote: Total 3 (delta 2), reused 0 (delta 0), pack-reused 0\u001b[K\n",
            "Unpacking objects:  33% (1/3)   \rUnpacking objects:  66% (2/3)   \rUnpacking objects: 100% (3/3)   \rUnpacking objects: 100% (3/3), done.\n",
            "From https://github.com/dvschultz/MUNIT\n",
            "   8b23e8f..e46453b  master     -> origin/master\n",
            "Updating 8b23e8f..e46453b\n",
            "Fast-forward\n",
            " test.py | 4 \u001b[32m++\u001b[m\u001b[31m--\u001b[m\n",
            " 1 file changed, 2 insertions(+), 2 deletions(-)\n"
          ],
          "name": "stdout"
        }
      ]
    },
    {
      "cell_type": "code",
      "metadata": {
        "id": "GsiVvLuFsGTN"
      },
      "source": [
        ""
      ],
      "execution_count": null,
      "outputs": []
    }
  ]
}